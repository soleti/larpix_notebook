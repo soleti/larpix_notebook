{
 "cells": [
  {
   "cell_type": "code",
   "execution_count": 1,
   "metadata": {},
   "outputs": [],
   "source": [
    "from glob import glob\n",
    "import h5py\n",
    "import matplotlib.pyplot as plt\n",
    "import os\n",
    "from mpl_toolkits.mplot3d import Axes3D\n",
    "import numpy as np"
   ]
  },
  {
   "cell_type": "code",
   "execution_count": 7,
   "metadata": {},
   "outputs": [
    {
     "name": "stdout",
     "output_type": "stream",
     "text": [
      "/global/cfs/cdirs/dune/users/roberto\n"
     ]
    }
   ],
   "source": [
    "!pwd"
   ]
  },
  {
   "cell_type": "code",
   "execution_count": 2,
   "metadata": {},
   "outputs": [],
   "source": [
    "directory_proc = \"/project/projectdirs/dune/data/larpix/processed_data/prod_20_10_12/\"\n",
    "filepaths_proc = glob(directory_proc+\"*.h5\")\n",
    "filenames_proc = list(map(os.path.basename, filepaths_proc))"
   ]
  },
  {
   "cell_type": "code",
   "execution_count": 3,
   "metadata": {},
   "outputs": [],
   "source": [
    "filename = filenames_proc[0]\n",
    "f = h5py.File(directory_proc+filename,'r')"
   ]
  },
  {
   "cell_type": "code",
   "execution_count": 4,
   "metadata": {},
   "outputs": [
    {
     "data": {
      "application/vnd.jupyter.widget-view+json": {
       "model_id": "96dcdde7861444d7a06c23aaa82420e8",
       "version_major": 2,
       "version_minor": 0
      },
      "text/plain": [
       "Canvas(toolbar=Toolbar(toolitems=[('Home', 'Reset original view', 'home', 'home'), ('Back', 'Back to previous …"
      ]
     },
     "metadata": {},
     "output_type": "display_data"
    },
    {
     "data": {
      "text/plain": [
       "<matplotlib.colorbar.Colorbar at 0x2aaad71739d0>"
      ]
     },
     "execution_count": 4,
     "metadata": {},
     "output_type": "execute_result"
    }
   ],
   "source": [
    "%matplotlib widget\n",
    "hit_refs = f['events'][f['events']['nhit'] > 15]['hit_ref']\n",
    "events = f['events'][f['events']['nhit'] > 15]['evid']\n",
    "fig = plt.figure()\n",
    "ax = fig.add_subplot(1,1,1, projection='3d')\n",
    "\n",
    "tot_x = np.array([])\n",
    "tot_q = np.array([])\n",
    "tot_y = np.array([])\n",
    "tot_rel_ts = np.array([])\n",
    "\n",
    "for event_idx, hit_ref in zip(events[6:7], hit_refs[6:7]):\n",
    "    hit_x = f['hits'][hit_ref]['px'] \n",
    "    hit_y = f['hits'][hit_ref]['py'] \n",
    "    hit_q = f['hits'][hit_ref]['q'] \n",
    "    hit_rel_ts = f['hits'][hit_ref]['ts'] - f['events'][event_idx]['ts_start']\n",
    "    mask = (hit_q>0)&(hit_rel_ts <= 200)\n",
    "    tot_x = np.concatenate((tot_x, hit_x[mask]), axis=None)\n",
    "    tot_q = np.concatenate((tot_q, hit_q[mask]), axis=None)\n",
    "    tot_y = np.concatenate((tot_y, hit_y[mask]), axis=None)\n",
    "    tot_rel_ts = np.concatenate((tot_rel_ts, hit_rel_ts[mask]), axis=None)\n",
    "\n",
    "s = ax.scatter(tot_x,tot_y,tot_rel_ts*100e-9*1e6,c=tot_q,alpha=1,cmap='Spectral_r')\n",
    "ax.set_xlabel(\"x [mm]\")\n",
    "ax.set_ylabel(\"y [mm]\")\n",
    "ax.set_zlabel(\"t [$\\mathrm{\\mu}$s]\")\n",
    "fig.colorbar(s,ax=ax,label='Charge')"
   ]
  },
  {
   "cell_type": "code",
   "execution_count": 5,
   "metadata": {},
   "outputs": [],
   "source": [
    "xyz = np.dstack((tot_x,tot_y,tot_rel_ts*100e-9*1e6))\n",
    "xyz = xyz.reshape(xyz.shape[1],3)"
   ]
  },
  {
   "cell_type": "code",
   "execution_count": 6,
   "metadata": {},
   "outputs": [
    {
     "data": {
      "application/vnd.jupyter.widget-view+json": {
       "model_id": "dd43b8555c7c402b9bce2c066f2a971c",
       "version_major": 2,
       "version_minor": 0
      },
      "text/plain": [
       "Canvas(toolbar=Toolbar(toolitems=[('Home', 'Reset original view', 'home', 'home'), ('Back', 'Back to previous …"
      ]
     },
     "metadata": {},
     "output_type": "display_data"
    }
   ],
   "source": [
    "from skimage.measure import LineModelND, ransac\n",
    "from sklearn.decomposition import PCA\n",
    "\n",
    "# robustly fit line only using inlier data with RANSAC algorithm\n",
    "model_robust, inliers = ransac(xyz, LineModelND, min_samples=2,\n",
    "                               residual_threshold=4, max_trials=1000)\n",
    "outliers = inliers == False\n",
    "\n",
    "fig = plt.figure()\n",
    "ax = fig.add_subplot(111, projection='3d')\n",
    "ax.scatter(xyz[inliers][:, 0], xyz[inliers][:, 1], xyz[inliers][:, 2], c='b',\n",
    "           marker='o', label='Inlier data')\n",
    "ax.scatter(xyz[outliers][:, 0], xyz[outliers][:, 1], xyz[outliers][:, 2], c='r',\n",
    "           marker='o', label='Outlier data')\n",
    "\n",
    "X = xyz[inliers]\n",
    "\n",
    "pca = PCA(n_components=1)\n",
    "pca.fit(X)\n",
    "\n",
    "## New code below\n",
    "p = pca.components_\n",
    "centroid = np.mean(X, 0)\n",
    "segments = np.linspace(-100,100,10)[:, np.newaxis] * p\n",
    "Xlen = X.shape[0]\n",
    "avgPointCloud = 1 / Xlen * np.array([np.sum(X[:, 0]), np.sum(X[:, 1]), np.sum(X[:, 2])])\n",
    "Xmean = X - avgPointCloud\n",
    "\n",
    "cov = 1 / Xlen * X.T.dot(Xmean)\n",
    "t = np.linspace(-0.15,0.15,10)\n",
    "linearReg = avgPointCloud + cov[:, 0] * np.vstack(t)\n",
    "lineplot = ax.plot(*(centroid + segments).T, color=\"red\", label='Linear regression')\n",
    "\n",
    "ax.legend(loc='lower left')\n",
    "plt.show()"
   ]
  }
 ],
 "metadata": {
  "kernelspec": {
   "display_name": "Python 3",
   "language": "python",
   "name": "python3"
  },
  "language_info": {
   "codemirror_mode": {
    "name": "ipython",
    "version": 3
   },
   "file_extension": ".py",
   "mimetype": "text/x-python",
   "name": "python",
   "nbconvert_exporter": "python",
   "pygments_lexer": "ipython3",
   "version": "3.7.4"
  }
 },
 "nbformat": 4,
 "nbformat_minor": 4
}
