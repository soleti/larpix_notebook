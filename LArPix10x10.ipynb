{
 "cells": [
  {
   "cell_type": "markdown",
   "metadata": {},
   "source": [
    "# LArPix-v2 10x10 Tile Data Analysis"
   ]
  },
  {
   "cell_type": "code",
   "execution_count": 1,
   "metadata": {},
   "outputs": [],
   "source": [
    "import os.path\n",
    "import h5py\n",
    "import ipywidgets as widgets\n",
    "import matplotlib.pyplot as plt\n",
    "import matplotlib.gridspec as gridspec\n",
    "import numpy as np\n",
    "from mpl_toolkits.mplot3d import Axes3D\n",
    "from ipywidgets import interact, interact_manual\n",
    "from glob import glob\n",
    "from IPython.display import display\n",
    "import pandas as pd\n",
    "from datetime import datetime\n",
    "from tqdm import tqdm_notebook"
   ]
  },
  {
   "cell_type": "markdown",
   "metadata": {},
   "source": [
    "## Raw data"
   ]
  },
  {
   "cell_type": "code",
   "execution_count": 2,
   "metadata": {},
   "outputs": [],
   "source": [
    "directory = \"/project/projectdirs/dune/data/larpix/raw_data/raw_20_10_12/*/\"\n",
    "filepaths = glob(directory+\"*.h5\")\n",
    "dirs = list(map(os.path.dirname, filepaths))\n",
    "filenames = list(map(os.path.basename, filepaths))\n",
    "file_dict = dict(zip(filenames,dirs))"
   ]
  },
  {
   "cell_type": "code",
   "execution_count": 3,
   "metadata": {},
   "outputs": [],
   "source": [
    "filename = filenames[0]\n",
    "f = h5py.File(file_dict[filename]+\"/\"+filename,'r')\n",
    "df_packets = pd.DataFrame(np.array(f['packets']))\n",
    "df_packets[\"unique_channel\"] = df_packets[\"channel_id\"].astype(\"int64\") + \\\n",
    "                               64*(df_packets[\"chip_id\"].astype(\"int64\") + \\\n",
    "                                   256*(df_packets[\"io_channel\"].astype(\"int64\") + \\\n",
    "                                        256*df_packets[\"io_group\"].astype(\"int64\")))\n",
    "\n",
    "unique_channels = list(df_packets.groupby(\"unique_channel\").indices.keys())"
   ]
  },
  {
   "cell_type": "markdown",
   "metadata": {},
   "source": [
    "### Channel ADC values"
   ]
  },
  {
   "cell_type": "code",
   "execution_count": 4,
   "metadata": {},
   "outputs": [
    {
     "data": {
      "application/vnd.jupyter.widget-view+json": {
       "model_id": "ce99295c892d433a965b17dfc7ae03f6",
       "version_major": 2,
       "version_minor": 0
      },
      "text/plain": [
       "interactive(children=(SelectMultiple(description='File', index=(0,), layout=Layout(width='30%'), options=('dat…"
      ]
     },
     "metadata": {},
     "output_type": "display_data"
    }
   ],
   "source": [
    "@interact_manual\n",
    "def test(filenames=widgets.SelectMultiple(options=filenames,\n",
    "                                          value=[filenames[0]],\n",
    "                                          description=\"File\", \n",
    "                                          layout=widgets.Layout(width='30%'))):\n",
    "    if filenames:\n",
    "        \n",
    "        plt.figure(\"Channel ADC values\",figsize=(10,8))\n",
    "        gs = gridspec.GridSpec(2,1)\n",
    "        gs.update(hspace=0.05)\n",
    "        ax0 = plt.subplot(gs[0])\n",
    "        ax1 = plt.subplot(gs[1])\n",
    "        \n",
    "        for filename in tqdm_notebook(filenames):\n",
    "            f = h5py.File(file_dict[filename]+\"/\"+filename,'r')\n",
    "            ts = f['_header'].attrs['created']\n",
    "            date_label = datetime.utcfromtimestamp(ts).strftime('%Y-%m-%d %H:%M:%S')\n",
    "            df_packets = pd.DataFrame(np.array(f['packets']))\n",
    "            df_packets[\"unique_channel\"] = df_packets[\"channel_id\"].astype(\"int64\") + \\\n",
    "                                           64*(df_packets[\"chip_id\"].astype(\"int64\") + \\\n",
    "                                               256*(df_packets[\"io_channel\"].astype(\"int64\") + \\\n",
    "                                                    256*df_packets[\"io_group\"].astype(\"int64\")))\n",
    "            \n",
    "            unique_channels = list(df_packets.groupby(\"unique_channel\").indices.keys())\n",
    "            ax0.scatter(unique_channels, \n",
    "                          df_packets.groupby(\"unique_channel\")[\"dataword\"].mean(),\n",
    "                          alpha=0.5,\n",
    "                          label=date_label)\n",
    "            ax0.set_xticklabels([])\n",
    "            ax1.scatter(unique_channels, \n",
    "                          df_packets.groupby(\"unique_channel\")[\"dataword\"].std(),\n",
    "                          alpha=0.5,\n",
    "                          label=date_label)\n",
    "            \n",
    "        ax1.set_xlabel(\"Unique channel ID\")\n",
    "        ax0.set_ylabel(\"Mean ADC value\")\n",
    "        ax1.set_ylabel(\"Std ADC value\")\n",
    "        ax0.legend(ncol=2,bbox_to_anchor=(1.05, 1))"
   ]
  },
  {
   "cell_type": "markdown",
   "metadata": {},
   "source": [
    "### Channel ADC"
   ]
  },
  {
   "cell_type": "code",
   "execution_count": 5,
   "metadata": {
    "jupyter": {
     "source_hidden": true
    }
   },
   "outputs": [
    {
     "data": {
      "application/vnd.jupyter.widget-view+json": {
       "model_id": "d65bfdc7fb3d4cc9a0c4e6b54459cfb2",
       "version_major": 2,
       "version_minor": 0
      },
      "text/plain": [
       "interactive(children=(Select(description='File', layout=Layout(width='30%'), options=('datalog_2020_10_12_22_5…"
      ]
     },
     "metadata": {},
     "output_type": "display_data"
    }
   ],
   "source": [
    "@interact\n",
    "def test(filename=widgets.Select(options=filenames, description=\"File\", layout=widgets.Layout(width='30%')),\n",
    "         channel_id=widgets.BoundedIntText(value=0, min=0, max=64,description='Channel ID:'),\n",
    "         chip_id=widgets.BoundedIntText(value=0, min=11, max=200,description='Chip ID:'),\n",
    "         io_channel=widgets.BoundedIntText(value=0, min=1, max=4,description='IO channel:'),\n",
    "         io_group=widgets.BoundedIntText(value=1, min=1, max=1,description='IO group:')):\n",
    "    try:\n",
    "        f = h5py.File(file_dict[filename]+\"/\"+filename,'r')\n",
    "        df_packets = pd.DataFrame(np.array(f['packets']))\n",
    "        \n",
    "        plt.close('all')\n",
    "        adc = df_packets.query(\"(channel_id == %i) & (chip_id == %i) & (io_channel == %i) & (io_group == %i)\" \n",
    "                               % (channel_id, chip_id, io_channel, io_group))[\"dataword\"]\n",
    "        unique_channel = channel_id + 64*(chip_id + 256*(io_channel + 256*io_group))\n",
    "        if adc.any():\n",
    "            fig, ax = plt.subplots(1,1)\n",
    "            hist, bins, patches = ax.hist(adc)\n",
    "            ax.set_xlabel(\"ADC value\")\n",
    "        else:\n",
    "            print(\"Can't find unique channel\", unique_channel)\n",
    "    except OSError:\n",
    "        print(\"Invalid HDF5 file\", filename)\n",
    "    except TypeError:\n",
    "        print(\"No available files\")"
   ]
  },
  {
   "cell_type": "markdown",
   "metadata": {},
   "source": [
    "## Processed data"
   ]
  },
  {
   "cell_type": "code",
   "execution_count": 6,
   "metadata": {},
   "outputs": [
    {
     "data": {
      "application/vnd.jupyter.widget-view+json": {
       "model_id": "eb17c52213534b17a2548bd28f8fd384",
       "version_major": 2,
       "version_minor": 0
      },
      "text/plain": [
       "interactive(children=(Dropdown(description='File', options=('datalog_2020_10_12_18_09_31_PDT_evd.h5', 'datalog…"
      ]
     },
     "metadata": {},
     "output_type": "display_data"
    }
   ],
   "source": [
    "directory_proc = \"/project/projectdirs/dune/data/larpix/processed_data/prod_20_10_12/\"\n",
    "filepaths_proc = glob(directory_proc+\"*.h5\")\n",
    "filenames_proc = list(map(os.path.basename, filepaths_proc))\n",
    "\n",
    "@interact\n",
    "def test(filename=widgets.Dropdown(options=filenames_proc, description=\"File\"),\n",
    "         event_idx=widgets.IntText(0, description=\"Event ID\")):\n",
    "    try:\n",
    "        f = h5py.File(directory_proc+filename,'r')\n",
    "\n",
    "        hit_ref = f['events'][event_idx]['hit_ref']\n",
    "        hit_x = f['hits'][hit_ref]['px'] \n",
    "        hit_y = f['hits'][hit_ref]['py'] \n",
    "        hit_rel_ts = f['hits'][hit_ref]['ts'] - f['events'][event_idx]['ts_start']\n",
    "        hit_q = f['hits'][hit_ref]['q'] * 0.250\n",
    "\n",
    "        fig = plt.figure(figsize=(8,5),num=' ')\n",
    "        fig.clf()\n",
    "\n",
    "        ax1 = fig.add_subplot(2, 3, 1)\n",
    "        ax2 = fig.add_subplot(2, 3, 2)\n",
    "        ax3 = fig.add_subplot(2, 3, 3, projection='3d')\n",
    "        ax4 = fig.add_subplot(2, 3, 4)\n",
    "        ax5 = fig.add_subplot(2, 3, 5)\n",
    "        ax6 = fig.add_subplot(2, 3, 6)\n",
    "\n",
    "        ax1.hist(hit_rel_ts,histtype='step')\n",
    "        ax1.set_xlabel(\"$\\Delta t$ [clock ticks]\")\n",
    "\n",
    "        ax2.hist2d(hit_x,hit_y)\n",
    "        ax2.set_xlabel(\"$x$ [mm]\")\n",
    "        ax2.set_ylabel(\"$y$ [mm]\")\n",
    "\n",
    "        ax3.scatter(hit_x, hit_y, hit_rel_ts, \n",
    "                    alpha=1,\n",
    "                    c=hit_q)\n",
    "        ax3.set_xlabel(\"$x$ [mm]\")\n",
    "        ax3.set_ylabel(\"$y$ [mm]\")\n",
    "        ax3.set_zlabel(\"$\\Delta t$ [clock ticks]\")\n",
    "\n",
    "        ax4.hist(hit_x,histtype='step')\n",
    "        ax4.set_xlabel(\"$x$ [mm]\")\n",
    "\n",
    "        ax5.hist(hit_y,histtype='step')\n",
    "        ax5.set_xlabel(\"$y$ [mm]\")\n",
    "\n",
    "        ax6.hist(hit_q,histtype='step')\n",
    "        ax6.set_xlabel(\"Charge [# electrons]\")\n",
    "\n",
    "        fig.tight_layout()\n",
    "    except ValueError:\n",
    "        print(\"Invalid Event ID\", event_idx)\n",
    "    except OSError:\n",
    "        print(\"Invalid HDF5 file\", filename)\n",
    "    except TypeError:\n",
    "        print(\"No available files\")"
   ]
  },
  {
   "cell_type": "code",
   "execution_count": 7,
   "metadata": {},
   "outputs": [
    {
     "data": {
      "application/vnd.jupyter.widget-view+json": {
       "model_id": "14f42ff106b54e57b782373ee1645fd8",
       "version_major": 2,
       "version_minor": 0
      },
      "text/plain": [
       "interactive(children=(SelectMultiple(description='File', index=(0,), layout=Layout(width='35%'), options=('dat…"
      ]
     },
     "metadata": {},
     "output_type": "display_data"
    }
   ],
   "source": [
    "@interact_manual\n",
    "def test(filenames=widgets.SelectMultiple(options=filenames_proc,\n",
    "                                          value=[filenames_proc[0]],\n",
    "                                          description=\"File\", \n",
    "                                          layout=widgets.Layout(width='35%'))):\n",
    "    if filenames:\n",
    "        \n",
    "        fig, ax = plt.subplots(1,1)\n",
    "        for filename in tqdm_notebook(filenames):\n",
    "            f = h5py.File(directory_proc+\"/\"+filename,'r')\n",
    "#             date_label = datetime.utcfromtimestamp(ts).strftime('%Y-%m-%d %H:%M:%S')\n",
    "            ax.hist(f['hits']['q'],bins=100,histtype='step',range=(-200,400),label=filename)\n",
    "            \n",
    "            \n",
    "        ax.set_xlabel(\"Charge\")\n",
    "        ax.set_yscale(\"log\")\n",
    "        ax.legend(ncol=2,bbox_to_anchor=(1.05, 1))\n",
    "#         ax0.set_ylabel(\"Mean ADC value\")\n",
    "#         ax1.set_ylabel(\"Std ADC value\")\n",
    "#         ax0.legend(ncol=2,bbox_to_anchor=(1.05, 1))"
   ]
  }
 ],
 "metadata": {
  "kernelspec": {
   "display_name": "NumbaCuda",
   "language": "python",
   "name": "numbacuda"
  },
  "language_info": {
   "codemirror_mode": {
    "name": "ipython",
    "version": 3
   },
   "file_extension": ".py",
   "mimetype": "text/x-python",
   "name": "python",
   "nbconvert_exporter": "python",
   "pygments_lexer": "ipython3",
   "version": "3.7.4"
  }
 },
 "nbformat": 4,
 "nbformat_minor": 4
}
