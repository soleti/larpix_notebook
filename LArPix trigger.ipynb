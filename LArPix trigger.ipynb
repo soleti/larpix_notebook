{
 "cells": [
  {
   "cell_type": "markdown",
   "metadata": {},
   "source": [
    "# Trigger efficiency"
   ]
  },
  {
   "cell_type": "code",
   "execution_count": 7,
   "metadata": {
    "jupyter": {
     "source_hidden": true
    }
   },
   "outputs": [],
   "source": [
    "import os\n",
    "import ipywidgets as widgets\n",
    "import h5py\n",
    "import matplotlib.pyplot as plt\n",
    "import numpy as np\n",
    "import scipy.stats\n",
    "\n",
    "from math import sqrt\n",
    "from glob import glob\n",
    "from ipywidgets import interact, interact_manual\n",
    "from tqdm import tqdm_notebook as tqdm\n",
    "from shapely.geometry import MultiLineString, LineString\n",
    "from collections.abc import Iterable\n",
    "from matplotlib.colors import LogNorm"
   ]
  },
  {
   "cell_type": "code",
   "execution_count": 8,
   "metadata": {
    "jupyter": {
     "source_hidden": true
    }
   },
   "outputs": [],
   "source": [
    "directory = \"/global/project/projectdirs/dune/data/larpix/processed_data/prod_20_10_18/\"\n",
    "filepaths = glob(directory+\"*.h5\")\n",
    "dirs = list(map(os.path.dirname, filepaths))\n",
    "filenames = list(map(os.path.basename, filepaths))\n",
    "file_dict = dict(zip(filenames,dirs))"
   ]
  },
  {
   "cell_type": "code",
   "execution_count": 9,
   "metadata": {
    "jupyter": {
     "source_hidden": true
    }
   },
   "outputs": [],
   "source": [
    "pix_x_min, pix_x_max = -(4.434 * 69) / 2 - 4.434/2, +(4.434 * 69) / 2 + 4.434/2\n",
    "pix_y_min, pix_y_max = -(4.434 * 69) / 2 - 4.434/2, +(4.434 * 69) / 2 + 4.434/2\n",
    "n = 71\n",
    "x_bins, dx = np.linspace(pix_x_min, pix_x_max, n, retstep=True)\n",
    "y_bins, dy = np.linspace(pix_y_min, pix_y_max, n, retstep=True)\n",
    "\n",
    "lines = []\n",
    "for x in x_bins:\n",
    "    lines.append(((x, pix_y_min), (x, pix_y_max)))\n",
    "for y in y_bins:\n",
    "    lines.append(((pix_x_min, y), (pix_x_max, y)))\n",
    "    \n",
    "grid = MultiLineString(lines)\n",
    "\n",
    "MeVToElectrons = 4.237e+04\n",
    "Ab = 0.800\n",
    "kb = 0.0486\n",
    "eField = 0.50 # kV/cm\n",
    "lArDensity = 1.38 # g/cm^3\n",
    "dEdxMIP = 2.12 # MeV/cm"
   ]
  },
  {
   "cell_type": "code",
   "execution_count": 10,
   "metadata": {
    "jupyter": {
     "source_hidden": true
    }
   },
   "outputs": [],
   "source": [
    "def profile_plot(x,y,xbins,ax,statistic='mean',std_on=True,title='',fmt='r.'):\n",
    "    binned = scipy.stats.binned_statistic(x, y, bins=xbins, statistic=statistic)\n",
    "    binned_count = scipy.stats.binned_statistic(x, y, bins=xbins, statistic='count')\n",
    "    binned_std = scipy.stats.binned_statistic(x, y, bins=xbins, statistic='std')\n",
    "    value = binned.statistic\n",
    "    std = binned_std.statistic/np.sqrt(binned_count.statistic)\n",
    "    bin_edges = binned.bin_edges\n",
    "    bin_centers = (bin_edges[:-1] + bin_edges[1:])/2.\n",
    "    ax.errorbar(x=bin_centers, y=value, yerr=std, fmt=fmt,label=title,ms=4)\n",
    "    \n",
    "def mpv(x,range=(-2,5)):\n",
    "    val,bins = np.histogram(x,bins=round(sqrt(len(x))),range=range)\n",
    "    idx = np.argmax(val)\n",
    "    return (bins[idx] + bins[idx+1])/2"
   ]
  },
  {
   "cell_type": "code",
   "execution_count": 13,
   "metadata": {},
   "outputs": [
    {
     "data": {
      "application/vnd.jupyter.widget-view+json": {
       "model_id": "d911677bb5444d82bab0a5f69bbf100b",
       "version_major": 2,
       "version_minor": 0
      },
      "text/plain": [
       "interactive(children=(SelectMultiple(description='File', index=(0,), layout=Layout(width='35%'), options=('dat…"
      ]
     },
     "metadata": {},
     "output_type": "display_data"
    }
   ],
   "source": [
    "%matplotlib widget\n",
    "\n",
    "@interact_manual\n",
    "def test(filenames=widgets.SelectMultiple(options=filenames,\n",
    "                                          value=[filenames[0]],\n",
    "                                          description=\"File\", \n",
    "                                          layout=widgets.Layout(width='35%'))):\n",
    "    \n",
    "    num_eff_pid = np.zeros((72,72))\n",
    "    den_eff_pid = np.zeros((72,72))\n",
    "    num_eff = []\n",
    "    den_eff = []\n",
    "    num_eff_costheta = []\n",
    "    den_eff_costheta = []\n",
    "    meas = []\n",
    "    exp = []\n",
    "\n",
    "    for filename in filenames:\n",
    "        \n",
    "        f = h5py.File(file_dict[filename]+\"/\"+filename,'r')\n",
    "        tracks = f['tracks']\n",
    "        \n",
    "        if not len(tracks):\n",
    "            print(\"No events available in\", filename)\n",
    "            return\n",
    "\n",
    "        mask = tracks['start'][:,2] < 300\n",
    "        z_scale = f['tracks'].attrs['z_scale']\n",
    "            \n",
    "        for t in tqdm(tracks[mask],desc='Processing tracks...'):\n",
    "            expected_charge = {}\n",
    "            measured_charge = {}\n",
    "            hit_ref = t['hit_ref']\n",
    "            evd_ref = t['event_ref']\n",
    "            event_idx = f['events'][evd_ref]['evid'][0]\n",
    "            \n",
    "            hit_rel_ts = f['hits'][hit_ref]['ts'] - f['events'][event_idx]['ts_start']\n",
    "            hit_q = f['hits'][hit_ref]['q']\n",
    "            hit_x = f['hits'][hit_ref]['px'] \n",
    "            hit_y = f['hits'][hit_ref]['py'] \n",
    "            hit_z = hit_rel_ts * z_scale\n",
    "            \n",
    "            for i in range(len(hit_x)):\n",
    "                x = hit_x[i]\n",
    "                y = hit_y[i]\n",
    "                q = hit_q[i]\n",
    "                pix_id = (np.digitize(x, x_bins), np.digitize(y, y_bins))\n",
    "                if pix_id in measured_charge:\n",
    "                    measured_charge[pix_id] += q\n",
    "                else:\n",
    "                    measured_charge[pix_id] = q\n",
    "\n",
    "            z1 = t['start'][2] * z_scale\n",
    "            z2 = t['end'][2] * z_scale\n",
    "            y1 = t['start'][1]\n",
    "            y2 = t['end'][1]\n",
    "            x1 = t['start'][0]\n",
    "            x2 = t['end'][0]\n",
    "            track_length = np.sqrt((x2-x1)**2+(y2-y1)**2+(z2-z1)**2)\n",
    "            xy_length = np.sqrt((x2-x1)**2+(y2-y1)**2)\n",
    "            costheta = xy_length/track_length\n",
    "\n",
    "            line = LineString(np.c_[(x1,x2), (y1,y2)])\n",
    "            segments = line.difference(grid)\n",
    "            \n",
    "            if not isinstance(segments, Iterable):\n",
    "                segments = [segments]\n",
    "\n",
    "            for segment in segments:\n",
    "                x, y = segment.xy\n",
    "                length = np.sqrt((max(x)-min(x))**2+(max(y)-min(y))**2)/costheta\n",
    "                x_med = np.mean(x)\n",
    "                y_med = np.mean(y)\n",
    "                pix_id = (np.digitize(x_med, x_bins), np.digitize(y_med, y_bins))\n",
    "                dE = length/10*dEdxMIP\n",
    "                recomb = Ab / (1 + kb * dEdxMIP / (lArDensity * eField))\n",
    "                expected_charge[pix_id] = dE*MeVToElectrons*recomb/1e3 \n",
    "            \n",
    "            for pid in expected_charge:\n",
    "                den_eff_pid[pid] += 1\n",
    "                den_eff.append(expected_charge[pid])\n",
    "                den_eff_costheta.append(costheta)\n",
    "                if pid in measured_charge:\n",
    "                    num_eff.append(expected_charge[pid])\n",
    "                    num_eff_pid[pid] += 1\n",
    "                    num_eff_costheta.append(costheta)\n",
    "\n",
    "\n",
    "            for pid in measured_charge:\n",
    "                this_exp_pid = 0\n",
    "                if pid in expected_charge:\n",
    "                    this_exp_pid = expected_charge[pid]\n",
    "\n",
    "                meas.append(measured_charge[pid])\n",
    "                exp.append(this_exp_pid)\n",
    "\n",
    "    fig, ax = plt.subplots(1, 3, figsize=(15,4), constrained_layout=True, num='Trigger efficiency')\n",
    "    \n",
    "    num_histo, bin_edges = np.histogram(num_eff, range=(0,40),bins=20)\n",
    "    den_histo, bin_edges = np.histogram(den_eff, range=(0,40),bins=20)\n",
    "    bin_centers = [(bin_edges[i]+bin_edges[i+1])/2. for i in range(len(bin_edges)-1)]\n",
    "    eff = num_histo/den_histo\n",
    "    eff_err = 1./den_histo*np.sqrt(num_histo*(1-eff))\n",
    "    ax[0].errorbar(bin_centers,eff,eff_err,ls='none')\n",
    "    bin_centers.insert(0, 0)\n",
    "    bin_centers.append(bin_edges[-1])\n",
    "    eff = np.insert(eff,0,eff[0])\n",
    "    eff = np.insert(eff,-1,eff[-1])\n",
    "    ax[0].step(bin_centers,eff,where='mid',c='tab:blue')\n",
    "    ax[0].set_xlim(bin_edges[0],bin_edges[-1])\n",
    "    ax[0].set_xlabel(\"$Q_{\\mathrm{expected}}$ [ke]\")\n",
    "    ax[0].set_ylabel(\"Detector trigger efficiency\")\n",
    "    ax[0].set_ylim(0,1.05)\n",
    "    \n",
    "    num_histo, bin_edges_theta = np.histogram(num_eff_costheta, range=(0.5,1),bins=50)\n",
    "    den_histo, bin_edges_theta = np.histogram(den_eff_costheta, range=(0.5,1),bins=50)\n",
    "    bin_centers = [(bin_edges_theta[i]+bin_edges_theta[i+1])/2. for i in range(len(bin_edges_theta)-1)]\n",
    "    eff = num_histo/den_histo\n",
    "    eff_err = 1./den_histo*np.sqrt(num_histo*(1-eff))\n",
    "    ax[1].errorbar(bin_centers,eff,eff_err,ls='none')\n",
    "    bin_centers.insert(0, 0)\n",
    "    bin_centers.append(bin_edges_theta[-1])\n",
    "    eff = np.insert(eff,0,eff[0])\n",
    "    eff = np.insert(eff,-1,eff[-1])\n",
    "    ax[1].step(bin_centers,eff,where='mid',c='tab:blue')\n",
    "    ax[1].set_xlim(bin_edges_theta[0],bin_edges_theta[-1])\n",
    "    ax[1].set_xlabel(r\"$\\cos\\theta$\")\n",
    "    ax[1].set_ylabel(\"Detector trigger efficiency\")\n",
    "    ax[1].set_ylim(0,1.05)\n",
    "\n",
    "    eff_pid = np.nan_to_num(num_eff_pid/den_eff_pid)\n",
    "    c = ax[2].imshow(eff_pid,aspect='equal',origin='lower',extent=(pix_x_min-4.434,pix_x_max+4.434,pix_y_min-4.434,pix_y_max+4.434))\n",
    "    plt.colorbar(c,label='Detector trigger efficiency', aspect=40)\n",
    "    ax[2].set_xlim(pix_x_min,pix_x_max)\n",
    "    ax[2].set_ylim(pix_y_min,pix_y_max)\n",
    "    ax[2].set_xlabel(\"x [cm]\")\n",
    "    ax[2].set_ylabel(\"y [cm]\")\n",
    "    \n",
    "    fig, ax = plt.subplots(1,1)\n",
    "    xbins = bin_edges\n",
    "    x = np.array(exp)\n",
    "    y = np.array(meas)\n",
    "    h=ax.hist2d(x, y/x,bins=100,range=((0,40),(-2,5)),norm=LogNorm(vmin=1))\n",
    "    profile_plot(x, y/x, xbins, ax, statistic='mean', title=\"Mean\",fmt='rv')\n",
    "    profile_plot(x, y/x, xbins, ax, statistic='median', title=\"Median\",fmt='ro')\n",
    "    profile_plot(x, y/x, xbins, ax, statistic=mpv, title=\"MPV\",fmt='rs')\n",
    "    ax.legend()\n",
    "    ax.set_xlabel(\"$Q_{\\mathrm{expected}}$ [ke]\")\n",
    "    ax.set_ylabel(\"$Q_{\\mathrm{measured}}/Q_{\\mathrm{expected}}$\")\n",
    "    plt.colorbar(h[3])\n",
    "    \n",
    "    fig,ax = plt.subplots(4,5,figsize=(12,10),constrained_layout=True)\n",
    "    for i in range(4):\n",
    "        for j in range(5):\n",
    "            lim_down = (j+i*5)*2\n",
    "            lim_up = lim_down+2\n",
    "            ax[i][j].hist(y[(x>lim_down)&(x<lim_up)],range=(-10,250),histtype='step',lw=1,bins=52)\n",
    "            ax[i][j].set_xlim(-10,250)\n",
    "            ax[i][j].set_title(\"%i < $Q_{\\mathrm{expected}}$ < %i\" % (lim_down, lim_up))\n",
    "            if i == 3:\n",
    "                ax[i][j].set_xlabel(\"$Q_{\\mathrm{measured}}$ [ke]\")\n"
   ]
  },
  {
   "cell_type": "code",
   "execution_count": 12,
   "metadata": {},
   "outputs": [
    {
     "name": "stdout",
     "output_type": "stream",
     "text": [
      "/global/cfs/cdirs/dune/users/roberto/larpix_notebook\n"
     ]
    }
   ],
   "source": [
    "!pwd"
   ]
  },
  {
   "cell_type": "code",
   "execution_count": null,
   "metadata": {},
   "outputs": [],
   "source": []
  }
 ],
 "metadata": {
  "kernelspec": {
   "display_name": "Python 3",
   "language": "python",
   "name": "python3"
  },
  "language_info": {
   "codemirror_mode": {
    "name": "ipython",
    "version": 3
   },
   "file_extension": ".py",
   "mimetype": "text/x-python",
   "name": "python",
   "nbconvert_exporter": "python",
   "pygments_lexer": "ipython3",
   "version": "3.7.4"
  }
 },
 "nbformat": 4,
 "nbformat_minor": 4
}
